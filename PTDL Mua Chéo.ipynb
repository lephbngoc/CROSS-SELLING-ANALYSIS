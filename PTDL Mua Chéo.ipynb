{
 "cells": [
  {
   "cell_type": "code",
   "execution_count": null,
   "id": "0cc8e977-4b5b-4033-b4e7-babee826c2d6",
   "metadata": {},
   "outputs": [],
   "source": [
    "import pandas as pd\n",
    "from sklearn.model_selection import train_test_split\n",
    "from sklearn.linear_model import LogisticRegression\n",
    "from sklearn.metrics import classification_report, accuracy_score\n",
    "from mlxtend.preprocessing import TransactionEncoder\n",
    "import matplotlib.pyplot as plt\n",
    "import seaborn as sns\n",
    "import numpy as np\n",
    "import mlxtend"
   ]
  },
  {
   "cell_type": "code",
   "execution_count": null,
   "id": "e6fdc69f-22ce-44a0-989f-3e11030d3e18",
   "metadata": {},
   "outputs": [],
   "source": [
    "# Đọc dữ liệu từ file chipotle.tsv\n",
    "df = pd.read_csv('chipotle.tsv', sep='\\t')"
   ]
  },
  {
   "cell_type": "code",
   "execution_count": null,
   "id": "bd15f230-97ed-410f-a274-5084efb258eb",
   "metadata": {
    "scrolled": true
   },
   "outputs": [],
   "source": [
    "print(df.info())\n",
    "print(df.head())"
   ]
  },
  {
   "cell_type": "code",
   "execution_count": null,
   "id": "6d814253-8fdb-40ca-98e5-314512bee418",
   "metadata": {},
   "outputs": [],
   "source": [
    "print(df.choice_description.head(5)) "
   ]
  },
  {
   "cell_type": "code",
   "execution_count": null,
   "id": "bd2a1c89-b158-43db-b42b-42764bb445a9",
   "metadata": {},
   "outputs": [],
   "source": [
    "print(df.item_price)"
   ]
  },
  {
   "cell_type": "code",
   "execution_count": null,
   "id": "c27e2982-b2a8-4fb2-a4a9-50a347e50fd7",
   "metadata": {},
   "outputs": [],
   "source": [
    "df.describe(include='all')"
   ]
  },
  {
   "cell_type": "code",
   "execution_count": null,
   "id": "25fd45de-5534-4cf0-a08b-de5f49548d11",
   "metadata": {},
   "outputs": [],
   "source": [
    "##Kiểm tra missing data bằng trực quan hóa\n",
    "fig,ax=plt.subplots(figsize=(8,5))\n",
    "sns.heatmap(df.isna(),cmap='Blues',cbar= False, yticklabels=False);"
   ]
  },
  {
   "cell_type": "code",
   "execution_count": null,
   "id": "92c704a2-6cc4-4047-8fe7-f96a1dd2c49d",
   "metadata": {},
   "outputs": [],
   "source": [
    "# Kiểm tra các giá trị null trong cột 'quantity'\n",
    "null_quantity_rows = df[df['quantity'].isnull()]\n",
    "print(null_quantity_rows)"
   ]
  },
  {
   "cell_type": "code",
   "execution_count": null,
   "id": "33f33e42-d438-4ef7-9856-fb4359d6e473",
   "metadata": {},
   "outputs": [],
   "source": [
    "# Làm sạch dữ liệu, loại bỏ các dòng không có món ăn\n",
    "cleaned_data = df.dropna(subset=['item_name'])\n",
    "print(cleaned_data)"
   ]
  },
  {
   "cell_type": "code",
   "execution_count": null,
   "id": "e807189a-a950-4858-8afa-2efecdd7752d",
   "metadata": {},
   "outputs": [],
   "source": [
    "print(df.choice_description.head(5)) "
   ]
  },
  {
   "cell_type": "code",
   "execution_count": null,
   "id": "f12bcfb9-8cb4-49ac-a069-b57abf7514ba",
   "metadata": {
    "scrolled": true
   },
   "outputs": [],
   "source": [
    "# Chỉ thay thế các giá trị null trong cột 'choice_description' thành 'none'\n",
    "df['choice_description'] = df['choice_description'].where(df['choice_description'].notnull(), 'none')"
   ]
  },
  {
   "cell_type": "code",
   "execution_count": null,
   "id": "3344f6fd-4be0-4679-b755-0a2471f15140",
   "metadata": {},
   "outputs": [],
   "source": [
    "# Kiểm tra các hàng có giá trị bằng 0 trong cột 'quantity'\n",
    "zero_quantity_rows = df[df['quantity'] == 0]\n",
    "\n",
    "# Đếm số lượng hàng có giá trị bằng 0\n",
    "zero_quantity_count = zero_quantity_rows.shape[0]\n",
    "\n",
    "# Hiển thị kết quả\n",
    "print(f\"Số lượng hàng có giá trị bằng 0 trong cột 'quantity': {zero_quantity_count}\")\n",
    "if zero_quantity_count > 0:\n",
    "    print(\"Mẫu dữ liệu có giá trị bằng 0 trong cột 'quantity':\")\n",
    "    print(zero_quantity_rows)\n",
    "else:\n",
    "    print(\"Không có giá trị bằng 0 trong cột 'quantity'.\")\n",
    "print(df.info())"
   ]
  },
  {
   "cell_type": "code",
   "execution_count": null,
   "id": "75cded08-3cd1-417b-934f-9d82bf7ecb1e",
   "metadata": {},
   "outputs": [],
   "source": [
    "# Kiểm tra lại để đảm bảo không còn giá trị null\n",
    "print(f\"Số lượng giá trị null còn lại trong cột 'choice_description': {df['choice_description'].isnull().sum()}\")\n",
    "print(\"Một số hàng đầu của cột 'choice_description':\")\n",
    "print(df['choice_description'].head())"
   ]
  },
  {
   "cell_type": "code",
   "execution_count": null,
   "id": "e08c5523-1eda-46a0-a124-4b7a221f4353",
   "metadata": {},
   "outputs": [],
   "source": [
    "print(df['choice_description'].isnull().sum()) "
   ]
  },
  {
   "cell_type": "code",
   "execution_count": null,
   "id": "3139a1c7-34df-4761-ab87-99a33a160ea1",
   "metadata": {},
   "outputs": [],
   "source": [
    "# Kiểm tra các giá trị null trong cột 'item_price'\n",
    "null_item_price = df[df['item_price'].isnull()]\n",
    "print(null_item_price)"
   ]
  },
  {
   "cell_type": "code",
   "execution_count": null,
   "id": "b7e3ef41-6a0e-4f60-84f3-12029524e55c",
   "metadata": {},
   "outputs": [],
   "source": [
    "# Kiểm tra các hàng có giá trị bằng 0 trong cột 'item_price'\n",
    "zero_itemprice = df[df['item_price'] == 0]\n",
    "\n",
    "# Đếm số lượng hàng có giá trị bằng 0\n",
    "zero_itemprice_count = zero_itemprice.shape[0]\n",
    "\n",
    "# Hiển thị kết quả\n",
    "print(f\"Số lượng hàng có giá trị bằng 0 trong cột 'item_price': {zero_itemprice_count}\")\n",
    "if zero_itemprice_count > 0:\n",
    "    print(\"Mẫu dữ liệu có giá trị bằng 0 trong cột 'quantity':\")\n",
    "    print(zero_itemprice)\n",
    "else:\n",
    "    print(\"Không có giá trị bằng 0 trong cột 'item_price'.\")"
   ]
  },
  {
   "cell_type": "code",
   "execution_count": null,
   "id": "9de67bbd-2adb-42d6-98ba-f0c19671b2b5",
   "metadata": {},
   "outputs": [],
   "source": [
    "df.item_price.dtype"
   ]
  },
  {
   "cell_type": "code",
   "execution_count": null,
   "id": "e49be9eb-7795-42a5-a1af-3319dda82f01",
   "metadata": {
    "scrolled": true
   },
   "outputs": [],
   "source": [
    "# Đảm bảo tất cả các giá trị trong cột 'item_price' là chuỗi\n",
    "df['item_price'] = df['item_price'].astype(str)\n",
    "\n",
    "# Xử lý NaN bằng cách thay thế bằng giá trị mặc định\n",
    "df['item_price'] = df['item_price'].replace('NaN', '$0')\n",
    "\n",
    "# Loại bỏ ký hiệu '$' và chuyển thành kiểu float\n",
    "df['item_price'] = df['item_price'].str.replace('$', '', regex=False)\n",
    "df['item_price'] = df['item_price'].astype(float)\n",
    "\n",
    "# Hiển thị kết quả\n",
    "print(df['item_price'])"
   ]
  },
  {
   "cell_type": "code",
   "execution_count": null,
   "id": "d67f3264-2a7b-4524-b035-13eb38bb3891",
   "metadata": {},
   "outputs": [],
   "source": [
    "df.head()"
   ]
  },
  {
   "cell_type": "markdown",
   "id": "8761ed5b-ecc9-4aec-b99a-00e894baefd0",
   "metadata": {},
   "source": [
    "## CHUẨN BỊ DỮ LIỆU"
   ]
  },
  {
   "cell_type": "code",
   "execution_count": null,
   "id": "19b141ac-0e6d-43f3-8b58-91b49fa8fa00",
   "metadata": {},
   "outputs": [],
   "source": [
    "df['total_price'] = df['quantity']*df['item_price']"
   ]
  },
  {
   "cell_type": "code",
   "execution_count": null,
   "id": "471430a3-ee94-4da4-a9ee-a239f00aeda5",
   "metadata": {},
   "outputs": [],
   "source": [
    "revenue=df['total_price'].sum()\n",
    "print(revenue)"
   ]
  },
  {
   "cell_type": "code",
   "execution_count": null,
   "id": "1b020e77-f73c-4edb-a549-3d0deb247f4b",
   "metadata": {},
   "outputs": [],
   "source": [
    "# Nhóm dữ liệu theo 'order_id' để tạo danh sách các sản phẩm trong từng đơn hàng\n",
    "grouped_data = df.groupby('order_id')['item_name'].apply(list).reset_index()\n",
    "print(grouped_data.head())"
   ]
  },
  {
   "cell_type": "code",
   "execution_count": null,
   "id": "35700af8-61da-4fc3-8bd2-4407a0bc969b",
   "metadata": {},
   "outputs": [],
   "source": [
    "from itertools import combinations\n",
    "from collections import Counter\n",
    "import pandas as pd\n",
    "\n",
    "# Lấy danh sách các sản phẩm theo từng đơn hàng\n",
    "order_products = df.groupby('order_id')['item_name'].apply(list)\n",
    "\n",
    "# Tổng hợp doanh thu theo từng cặp sản phẩm\n",
    "pair_revenue = Counter()\n",
    "for products in order_products:\n",
    "    for pair in combinations(sorted(products), 2):\n",
    "        # Lọc dữ liệu liên quan đến từng cặp sản phẩm\n",
    "        relevant_rows = df[df['item_name'].isin(pair)]\n",
    "        # Tính tổng doanh thu cho cặp sản phẩm\n",
    "        pair_revenue[pair] += relevant_rows['total_price'].sum()\n",
    "\n",
    "# Chuyển đổi kết quả thành DataFrame\n",
    "pair_revenue_df = pd.DataFrame(pair_revenue.items(), columns=['pair', 'revenue'])\n",
    "\n",
    "# Sắp xếp giảm dần theo doanh thu và lấy top 10\n",
    "top_revenue_pairs = pair_revenue_df.sort_values(by='revenue', ascending=False).head(10)\n",
    "\n",
    "# Hiển thị kết quả\n",
    "print(top_revenue_pairs)"
   ]
  },
  {
   "cell_type": "code",
   "execution_count": null,
   "id": "db148ab8-f60a-4123-aade-095c3c6e5499",
   "metadata": {},
   "outputs": [],
   "source": [
    "# Vẽ biểu đồ top 10 cặp sản phẩm có doanh thu cao nhất\n",
    "plt.figure(figsize=(12, 6))\n",
    "plt.barh(\n",
    "    [f\"{pair[0]} & {pair[1]}\" for pair in top_revenue_pairs['pair']], \n",
    "    top_revenue_pairs['revenue'], \n",
    "    color='skyblue'\n",
    ")\n",
    "plt.xlabel(\"Doanh thu ($)\", fontsize=12)\n",
    "plt.ylabel(\"Cặp sản phẩm\", fontsize=12)\n",
    "plt.title(\"Top 10 Cặp Sản Phẩm Có Doanh Thu Cao Nhất\", fontsize=14)\n",
    "plt.gca().invert_yaxis()  # Đảo ngược trục Y để cặp có doanh thu cao nhất ở trên cùng\n",
    "plt.show()"
   ]
  },
  {
   "cell_type": "code",
   "execution_count": null,
   "id": "a757bc92-a467-409b-af41-c80d2e2c30fa",
   "metadata": {},
   "outputs": [],
   "source": [
    "# Tổng hợp doanh thu theo từng bộ ba sản phẩm\n",
    "triplet_revenue = Counter()\n",
    "for products in order_products:\n",
    "    for triplet in combinations(sorted(products), 3):  # Xét bộ ba sản phẩm\n",
    "        # Lọc dữ liệu liên quan đến từng bộ ba sản phẩm\n",
    "        relevant_rows = df[df['item_name'].isin(triplet)]\n",
    "        # Tính tổng doanh thu cho bộ ba sản phẩm\n",
    "        triplet_revenue[triplet] += relevant_rows['total_price'].sum()\n",
    "\n",
    "# Chuyển đổi kết quả thành DataFrame\n",
    "triplet_revenue_df = pd.DataFrame(triplet_revenue.items(), columns=['triplet', 'revenue'])\n",
    "\n",
    "# Sắp xếp giảm dần theo doanh thu và lấy top 10\n",
    "top_revenue_triplets = triplet_revenue_df.sort_values(by='revenue', ascending=False).head(10)\n",
    "\n",
    "# Hiển thị kết quả\n",
    "print(top_revenue_triplets)"
   ]
  },
  {
   "cell_type": "markdown",
   "id": "8a322d29-cb8b-4006-860c-fc0b5758df57",
   "metadata": {},
   "source": [
    "# ở 3 cặp sản phẩm, có những cặp có sản phẩm trùng nhau nên không chọn tổng hợp doanh thu từng bộ 3 sp"
   ]
  },
  {
   "cell_type": "code",
   "execution_count": null,
   "id": "4a074d83-4763-43ff-90c7-a2d86d8b189d",
   "metadata": {},
   "outputs": [],
   "source": [
    "##nhóm item_name và quantity + tính tổng\n",
    "group_d1=df.groupby('item_name')['quantity'].sum()\n",
    "group_d1.sort_values(ascending= False).head(10)"
   ]
  },
  {
   "cell_type": "code",
   "execution_count": null,
   "id": "738d40c1-4e2a-47bb-9a21-3ebda59ed43c",
   "metadata": {},
   "outputs": [],
   "source": [
    "##số món hàng được bán ra trong ngày hôm đó\n",
    "df.item_name.nunique()"
   ]
  },
  {
   "cell_type": "code",
   "execution_count": null,
   "id": "1c2dce50-e84c-48a9-ba44-668d5e446880",
   "metadata": {},
   "outputs": [],
   "source": [
    "grouped_data.shape"
   ]
  },
  {
   "cell_type": "code",
   "execution_count": null,
   "id": "c501d0c9-22cd-427b-9e25-5885e1f79a7c",
   "metadata": {
    "scrolled": true
   },
   "outputs": [],
   "source": [
    "from mlxtend.preprocessing import TransactionEncoder\n",
    "\n",
    "# Chuẩn bị dữ liệu dạng danh sách giao dịch\n",
    "transactions = grouped_data['item_name'].tolist()\n",
    "\n",
    "print(transactions)"
   ]
  },
  {
   "cell_type": "code",
   "execution_count": null,
   "id": "2c789dfb-9ce5-4a48-b8cd-9aa56f0b87cb",
   "metadata": {
    "scrolled": true
   },
   "outputs": [],
   "source": [
    "from mlxtend.preprocessing import TransactionEncoder\n",
    "import pandas as pd\n",
    "\n",
    "# Đảm bảo không bỏ sót giá trị thiếu\n",
    "df = df.dropna(subset=['item_name'])\n",
    "\n",
    "# Kiểm tra danh sách giao dịch\n",
    "transactions = grouped_data['item_name'].tolist()\n",
    "print(\"Số lượng giao dịch:\", len(transactions))\n",
    "print(transactions[:3])"
   ]
  },
  {
   "cell_type": "code",
   "execution_count": null,
   "id": "381de670-b3d1-4e0b-b90f-603d9d58a481",
   "metadata": {},
   "outputs": [],
   "source": [
    "print(grouped_data)"
   ]
  },
  {
   "cell_type": "code",
   "execution_count": null,
   "id": "13443ae9-1ec0-4fe0-8b6e-a1740cb8e0e4",
   "metadata": {},
   "outputs": [],
   "source": [
    "# Mã hóa dữ liệu giao dịch thành ma trận nhị phân\n",
    "te = TransactionEncoder()\n",
    "te_ary = te.fit_transform(transactions)\n",
    "df_matrix= pd.DataFrame(te_ary, columns=te.columns_)\n",
    "\n",
    "# Kiểm tra ma trận và danh sách sản phẩm\n",
    "print(\"Số lượng sản phẩm:\", len(te.columns_))\n",
    "print(df_matrix.head(5))"
   ]
  },
  {
   "cell_type": "code",
   "execution_count": null,
   "id": "717fba24-bc1e-4c30-9082-90aa698eaf9d",
   "metadata": {},
   "outputs": [],
   "source": [
    "from mlxtend.frequent_patterns import apriori\n",
    "\n",
    "# Áp dụng thuật toán Apriori để tìm các tập phổ biến\n",
    "frequent_itemsets = apriori(df_matrix, min_support=0.02, use_colnames=True) \n",
    "#min_support=0.02: Chỉ giữ lại các tập sản phẩm xuất hiện trong ít nhất 2% giao dịch.\n",
    "#use_colnames=True: Sử dụng tên sản phẩm làm đầu ra thay vì chỉ số cột.\n",
    "\n",
    "# Hiển thị các tập phổ biến\n",
    "print(frequent_itemsets)\n"
   ]
  },
  {
   "cell_type": "code",
   "execution_count": null,
   "id": "26fe520f-a956-4c4a-9f07-eb204529e182",
   "metadata": {},
   "outputs": [],
   "source": [
    "from mlxtend.frequent_patterns import association_rules\n",
    "# Tạo các quy tắc liên kết\n",
    "rules = association_rules(frequent_itemsets, metric=\"lift\" , min_threshold=1.0,num_itemsets = len(frequent_itemsets))\n",
    "print(\"\\nCác quy tắc liên kết:\")\n",
    "print(rules[['antecedents', 'consequents', 'support', 'confidence', 'lift']])"
   ]
  },
  {
   "cell_type": "code",
   "execution_count": null,
   "id": "5fa47180-8306-4cbc-9817-33ef65ad0957",
   "metadata": {},
   "outputs": [],
   "source": [
    "# Chuyển đổi các itemset (frozenset) thành chuỗi không có \"frozenset\"\n",
    "frequent_itemsets['itemsets'] = frequent_itemsets['itemsets'].apply(lambda x: ', '.join(list(x)))\n",
    "\n",
    "# Vẽ biểu đồ số lượng itemset và support\n",
    "plt.figure(figsize=(12, 6))\n",
    "\n",
    "# Vẽ biểu đồ cột với tên các itemset đã được chuyển đổi thành chuỗi\n",
    "plt.bar(frequent_itemsets['itemsets'], frequent_itemsets['support'], color='skyblue')\n",
    "\n",
    "# Thêm tiêu đề và nhãn cho trục\n",
    "plt.title('Biểu đồ các itemset phổ biến', fontsize=16)\n",
    "plt.xlabel('Itemsets', fontsize=12)\n",
    "plt.ylabel('Support', fontsize=12)\n",
    "\n",
    "# Xoay trục x nếu cần thiết (nếu có nhiều itemset)\n",
    "plt.xticks(rotation=90)\n",
    "\n",
    "# Hiển thị biểu đồ\n",
    "plt.show()"
   ]
  },
  {
   "cell_type": "code",
   "execution_count": null,
   "id": "e5c90db5-e91f-487e-94ae-b8d0a8ed90d5",
   "metadata": {
    "scrolled": true
   },
   "outputs": [],
   "source": [
    "# Đếm số lần xuất hiện của mỗi sản phẩm\n",
    "item_counts = df['item_name'].value_counts()\n",
    "# Chuyển thành DataFrame để dễ hiển thị\n",
    "item_counts_df = item_counts.reset_index()\n",
    "item_counts_df.columns = ['item_name', 'count']\n",
    "print(item_counts_df)  "
   ]
  },
  {
   "cell_type": "code",
   "execution_count": null,
   "id": "d2b1f34a-12ec-4202-970b-e8c9b795b947",
   "metadata": {},
   "outputs": [],
   "source": [
    "print(frequent_itemsets.head())"
   ]
  },
  {
   "cell_type": "code",
   "execution_count": null,
   "id": "a94d2a4e-985f-4fd3-90c3-f6d9c64434af",
   "metadata": {},
   "outputs": [],
   "source": [
    "# Tạo ma trận đồng xuất hiện sản phẩm\n",
    "co_occurrence_matrix = df_matrix.T.dot(df_matrix)\n",
    "sns.heatmap(co_occurrence_matrix, cmap=\"Blues\",linecolor='white',linewidth=1)\n",
    "plt.title(\"Heatmap: Ma trận đồng xuất hiện sản phẩm\")\n",
    "plt.show()"
   ]
  },
  {
   "cell_type": "code",
   "execution_count": null,
   "id": "d6590455-cebd-452d-a62b-2ac3e1a76bf5",
   "metadata": {},
   "outputs": [],
   "source": [
    "## Tìm các sản phẩm thường được mua cùng nhau\n",
    "# Tạo bảng pivot để phân tích\n",
    "#df.pivot_table(...): Tạo một bảng pivot từ DataFrame df với các thông tin sau:\n",
    "#index='order_id': Mỗi dòng trong bảng pivot sẽ đại diện cho một order_id (mã đơn hàng).\n",
    "#columns='item_name': Các cột sẽ là tên các sản phẩm (item_name).\n",
    "#values='quantity': Các giá trị trong bảng là số lượng (quantity) của từng sản phẩm trong mỗi đơn hàng.\n",
    "#aggfunc='sum': Nếu một đơn hàng mua cùng lúc nhiều sản phẩm giống nhau, các số lượng sẽ được cộng lại.\n",
    "#fill_value=0: Nếu một sản phẩm không có trong một đơn hàng, giá trị sẽ là 0 (không mua sản phẩm đó trong đơn hàng đó).\n",
    "\n",
    "basket = df.pivot_table(index='order_id', columns='item_name', values='quantity', aggfunc='sum', fill_value=0)\n",
    "\n",
    "# Tính toán ma trận tương quan\n",
    "basket_matrix = basket.corr()\n",
    "print(basket_matrix)"
   ]
  },
  {
   "cell_type": "code",
   "execution_count": null,
   "id": "877249e0-4fd4-4939-b970-592638cc8bcd",
   "metadata": {},
   "outputs": [],
   "source": [
    "# Vẽ biểu đồ heatmap cho Ma trận tương quan\n",
    "plt.figure(figsize=(12, 8))\n",
    "sns.heatmap(basket_matrix, cmap='coolwarm', annot=False, cbar=True)\n",
    "plt.title('Ma trận tương quan giữa các sản phẩm', fontsize=16)\n",
    "plt.show()"
   ]
  },
  {
   "cell_type": "code",
   "execution_count": null,
   "id": "357c4121-0e46-44ee-b8be-5be9566b6d00",
   "metadata": {},
   "outputs": [],
   "source": [
    "# Chuẩn bị dữ liệu\n",
    "top_rules = rules.sort_values('lift', ascending=False).head(10)\n",
    "\n",
    "# Tạo nhãn luật liên kết: Antecedents → Consequents\n",
    "rule_labels = (\n",
    "    top_rules['antecedents'].astype(str).str.replace(\"frozenset\\(\\{|\\}\\)\", \"\", regex=True)\n",
    "    + \" → \" +\n",
    "    top_rules['consequents'].astype(str).str.replace(\"frozenset\\(\\{|\\}\\)\", \"\", regex=True)\n",
    ")\n",
    "\n",
    "# Giá trị Lift, Confidence, và Support\n",
    "lift_values = top_rules['lift']\n",
    "confidence_values = top_rules['confidence']\n",
    "support_values = top_rules['support']\n",
    "\n",
    "# Định nghĩa vị trí cột\n",
    "x = np.arange(len(rule_labels))  # Vị trí nhóm cột\n",
    "width = 0.25  # Độ rộng mỗi cột\n",
    "\n",
    "# Tạo biểu đồ cột nhóm\n",
    "plt.figure(figsize=(14, 8))\n",
    "\n",
    "# Cột Lift\n",
    "plt.bar(x - width, lift_values, width, label='Lift', color='skyblue')\n",
    "\n",
    "# Cột Confidence\n",
    "plt.bar(x, confidence_values, width, label='Confidence', color='orange')\n",
    "\n",
    "# Cột Support\n",
    "plt.bar(x + width, support_values, width, label='Support', color='green')\n",
    "\n",
    "# Tùy chỉnh biểu đồ\n",
    "plt.xlabel('Luật liên kết (Antecedents → Consequents)', fontsize=12)\n",
    "plt.ylabel('Giá trị', fontsize=12)\n",
    "plt.title('So sánh Lift, Confidence và Support của Top 10 luật liên kết', fontsize=14)\n",
    "plt.xticks(x, rule_labels, rotation=45, ha='right', fontsize=10)\n",
    "plt.legend()  # Hiển thị chú thích\n",
    "plt.tight_layout()  # Điều chỉnh bố cục để không bị tràn nội dung\n",
    "plt.grid(axis='y', linestyle='--', alpha=0.6)\n",
    "\n",
    "# Hiển thị biểu đồ\n",
    "plt.show()"
   ]
  },
  {
   "cell_type": "code",
   "execution_count": null,
   "id": "9c049d46-ad8b-4a2a-b3d8-a4f010f48bdf",
   "metadata": {},
   "outputs": [],
   "source": [
    "import matplotlib.pyplot as plt\n",
    "\n",
    "# Lấy top 10 luật liên kết theo lift\n",
    "top_rules = rules.sort_values('lift', ascending=False).head(10)\n",
    "\n",
    "# Vẽ biểu đồ Lift\n",
    "plt.figure(figsize=(10, 6))\n",
    "plt.barh(\n",
    "    top_rules['antecedents'].astype(str).str.replace(\"frozenset\\(\\{|\\}\\)\", \"\", regex=True),\n",
    "    top_rules['lift'], \n",
    "    color='skyblue'\n",
    ")\n",
    "plt.xlabel('Lift')\n",
    "plt.ylabel('Luật liên kết')\n",
    "plt.title('Top 10 luật liên kết theo Lift')\n",
    "plt.show()\n",
    "\n",
    "# Vẽ biểu đồ Confidence\n",
    "plt.figure(figsize=(10, 6))\n",
    "plt.barh(\n",
    "    top_rules['antecedents'].astype(str).str.replace(\"frozenset\\(\\{|\\}\\)\", \"\", regex=True),\n",
    "    top_rules['confidence'], \n",
    "    color='orange'\n",
    ")\n",
    "plt.xlabel('Confidence')\n",
    "plt.ylabel('Luật liên kết')\n",
    "plt.title('Top 10 luật liên kết theo Confidence')\n",
    "plt.show()\n",
    "\n",
    "# Vẽ biểu đồ Support\n",
    "plt.figure(figsize=(10, 6))\n",
    "plt.barh(\n",
    "    top_rules['antecedents'].astype(str).str.replace(\"frozenset\\(\\{|\\}\\)\", \"\", regex=True),\n",
    "    top_rules['support'], \n",
    "    color='green'\n",
    ")\n",
    "plt.xlabel('Support')\n",
    "plt.ylabel('Luật liên kết')\n",
    "plt.title('Top 10 luật liên kết theo Support')\n",
    "plt.show()"
   ]
  },
  {
   "cell_type": "code",
   "execution_count": null,
   "id": "69b28558-4d2e-47d6-9572-da5b59c948dc",
   "metadata": {},
   "outputs": [],
   "source": [
    "# Tính tổng số lượng và doanh thu cho từng sản phẩm\n",
    "product_summary = df.groupby('item_name').agg({'quantity': 'sum', 'item_price': 'sum'}).reset_index()\n",
    "product_summary.columns = ['item_name', 'total_quantity', 'total_revenue']\n",
    "print(product_summary.sort_values(by='total_revenue', ascending=False))"
   ]
  },
  {
   "cell_type": "code",
   "execution_count": null,
   "id": "c63c3d73-5606-4014-8bef-c3d4891e156a",
   "metadata": {
    "scrolled": true
   },
   "outputs": [],
   "source": [
    "# Vẽ biểu đồ\n",
    "plt.figure(figsize=(12, 6))\n",
    "\n",
    "# Top 10 sản phẩm theo doanh thu\n",
    "top_10_revenue = product_summary.sort_values(by='total_revenue', ascending=False).head(10)\n",
    "\n",
    "# Biểu đồ doanh thu\n",
    "plt.subplot(1, 2, 1)\n",
    "sns.barplot(x='total_revenue', y='item_name', data=top_10_revenue, palette='viridis')\n",
    "plt.title('Top 10 sản phẩm theo doanh thu')\n",
    "plt.xlabel('Doanh thu ($)')\n",
    "plt.ylabel('Tên sản phẩm')\n",
    "\n",
    "# Top 10 sản phẩm theo số lượng\n",
    "top_10_quantity = product_summary.sort_values(by='total_quantity', ascending=False).head(10)\n",
    "\n",
    "# Biểu đồ số lượng\n",
    "plt.subplot(1, 2, 2)\n",
    "sns.barplot(x='total_quantity', y='item_name', data=top_10_quantity, palette='magma')\n",
    "plt.title('Top 10 sản phẩm theo số lượng')\n",
    "plt.xlabel('Số lượng')\n",
    "plt.ylabel('Tên sản phẩm')\n",
    "\n",
    "plt.tight_layout()\n",
    "plt.show()"
   ]
  },
  {
   "cell_type": "code",
   "execution_count": null,
   "id": "eca1d6dc-7c9a-4942-85d8-3602432fb8e7",
   "metadata": {},
   "outputs": [],
   "source": [
    "# Mã hóa giao dịch thành dạng ma trận\n",
    "te = TransactionEncoder()\n",
    "transaction_matrix = te.fit_transform(transactions)\n",
    "transaction_df = pd.DataFrame(transaction_matrix, columns=te.columns_)"
   ]
  },
  {
   "cell_type": "markdown",
   "id": "23f3c079-5ded-48ab-b68a-a54935e6ad59",
   "metadata": {},
   "source": [
    "## THEO DOANH THU"
   ]
  },
  {
   "cell_type": "code",
   "execution_count": null,
   "id": "c255773b-de4a-42f1-839c-68b1f8d8295e",
   "metadata": {},
   "outputs": [],
   "source": [
    "from sklearn.preprocessing import StandardScaler\n",
    "from imblearn.over_sampling import SMOTE\n"
   ]
  },
  {
   "cell_type": "code",
   "execution_count": null,
   "id": "5c07f3d0-2a85-4814-bfe5-fa0e2fb5aeb4",
   "metadata": {},
   "outputs": [],
   "source": [
    "# Tính VIF cho từng đặc trưng\n",
    "from statsmodels.stats.outliers_influence import variance_inflation_factor\n",
    "vif_data = pd.DataFrame()\n",
    "vif_data[\"Feature\"] = transaction_df.columns\n",
    "vif_data[\"VIF\"] = [variance_inflation_factor(transaction_df.values, i) for i in range(transaction_df.shape[1])]\n",
    "\n",
    "# In kết quả\n",
    "print(vif_data) \n",
    "# VIF<5: không có hiện tượng đa cộng tuyến ->KHÔNG LOẠI BỎ BIẾN NÀO KHI CÓ HỆ SỐ ÂM"
   ]
  },
  {
   "cell_type": "code",
   "execution_count": null,
   "id": "36e8f1eb-23c1-4539-a491-7d2b9add83f5",
   "metadata": {},
   "outputs": [],
   "source": [
    "transaction_df = transaction_df.astype(int)"
   ]
  },
  {
   "cell_type": "code",
   "execution_count": null,
   "id": "71fca085-e4ce-411e-91b1-11770ce02ba1",
   "metadata": {},
   "outputs": [],
   "source": [
    "transaction_df.values"
   ]
  },
  {
   "cell_type": "code",
   "execution_count": null,
   "id": "f8bc67f0-505e-4c59-9c62-375fbccd8e7f",
   "metadata": {},
   "outputs": [],
   "source": [
    "# Tạo dữ liệu dự đoán\n",
    "target_product = \"Chicken Bowl\"\n",
    "\n",
    "# Đặt cột mục tiêu\n",
    "transaction_df['target'] = transaction_df[target_product].astype(int)\n",
    "\n",
    "# Loại bỏ sản phẩm mục tiêu khỏi đặc trưng dự đoán\n",
    "X = transaction_df.drop(columns=['target', target_product])\n",
    "y = transaction_df['target']\n",
    "\n",
    "# X: Chứa các đặc trưng (features) dùng để huấn luyện mô hình. Tất cả các cột ngoài target và target_product đều được giữ lại.\n",
    "# y: Là cột mục tiêu, chứa giá trị target mà mô hình sẽ dự đoán.\n",
    "# X.astype(int): Chuyển các giá trị trong DataFrame X thành kiểu số nguyên (int), để phù hợp với yêu cầu của các mô hình học máy.\n",
    "# y.astype(int): Đảm bảo cột y (cột mục tiêu) cũng có kiểu số nguyên\n",
    "X = X.astype(int)\n",
    "y = y.astype(int)\n",
    "\n",
    "\n",
    "# Áp dụng SMOTE để tăng dữ liệu lớp 1\n",
    "# SMOTE: Là một kỹ thuật tăng cường dữ liệu cho các lớp không cân bằng. Trong bài toán này, nếu lớp \"1\" (có sản phẩm mục tiêu) ít hơn lớp \"0\" (không có sản phẩm mục tiêu),SMOTE sẽ tạo ra các mẫu dữ liệu giả (synthetic samples) cho lớp \"1\" để làm cân bằng dữ liệu.\n",
    "# fit_resample(X, y): Áp dụng SMOTE để tạo ra bộ dữ liệu mới (X_resampled, y_resampled) với số lượng mẫu của các lớp cân bằng hơn.\n",
    "smote = SMOTE(random_state=42)\n",
    "X_resampled, y_resampled = smote.fit_resample(X, y)\n",
    "\n",
    "# Tách dữ liệu train-test\n",
    "#train_test_split(...): Tách dữ liệu thành hai phần: một phần để huấn luyện mô hình và một phần để kiểm tra mô hình.\n",
    "X_train, X_test, y_train, y_test = train_test_split(X_resampled, y_resampled, test_size=0.2, random_state=42)\n",
    "\n",
    "# Huấn luyện Logistic Regression\n",
    "# LogisticRegression(max_iter=1000, random_state=42): Tạo một mô hình Logistic Regression với tối đa 1000 vòng lặp huấn luyện (max_iter) để đảm bảo hội tụ, và một hạt giống ngẫu nhiên (random_state=42) để tái tạo kết quả.\n",
    "# model.fit(X_train, y_train): Huấn luyện mô hình trên dữ liệu huấn luyện (X_train và y_train).\n",
    "model = LogisticRegression(max_iter=1000, random_state=42)\n",
    "model.fit(X_train, y_train)\n",
    "\n",
    "# Dự đoán và đánh giá\n",
    "y_pred = model.predict(X_test)\n",
    "print(\"Đánh giá mô hình:\")\n",
    "print(classification_report(y_test, y_pred))\n",
    "print(f\"Độ chính xác: {accuracy_score(y_test, y_pred)}\")\n",
    "\n",
    "# Trực quan hóa: Tầm quan trọng của các đặc trưng\n",
    "coefficients = pd.Series(model.coef_[0], index=X.columns).sort_values(ascending=False)\n",
    "\n",
    "plt.figure(figsize=(10, 6))\n",
    "sns.barplot(x=coefficients[:10], y=coefficients[:10].index, palette=\"viridis\")\n",
    "plt.title(\"Top 10 món ăn quan trọng nhất trong dự đoán (Chicken Bowl)\", fontsize=14)\n",
    "plt.xlabel(\"Hệ số hồi quy\", fontsize=12)\n",
    "plt.ylabel(\"Tên sản phẩm\", fontsize=12)\n",
    "plt.grid(axis='x', linestyle='--', alpha=0.6)\n",
    "plt.show()"
   ]
  },
  {
   "cell_type": "code",
   "execution_count": null,
   "id": "60e38b2e-98ea-4830-b365-be93832f5b14",
   "metadata": {},
   "outputs": [],
   "source": [
    "# Tạo dữ liệu dự đoán\n",
    "target_product = \"Chicken Burrito\"\n",
    "\n",
    "# Đặt cột mục tiêu\n",
    "transaction_df['target'] = transaction_df[target_product].astype(int)\n",
    "\n",
    "# Loại bỏ sản phẩm mục tiêu khỏi đặc trưng dự đoán\n",
    "X = transaction_df.drop(columns=['target', target_product])\n",
    "y = transaction_df['target']\n",
    "\n",
    "X = X.astype(int)\n",
    "y = y.astype(int)\n",
    "\n",
    "# Áp dụng SMOTE để tăng dữ liệu lớp 1\n",
    "smote = SMOTE(random_state=42)\n",
    "X_resampled, y_resampled = smote.fit_resample(X, y)\n",
    "\n",
    "# Tách dữ liệu train-test\n",
    "X_train, X_test, y_train, y_test = train_test_split(X_resampled, y_resampled, test_size=0.2, random_state=42)\n",
    "\n",
    "# Huấn luyện Logistic Regression\n",
    "model = LogisticRegression(max_iter=1000, random_state=42)\n",
    "model.fit(X_train, y_train)\n",
    "\n",
    "# Dự đoán và đánh giá\n",
    "y_pred = model.predict(X_test)\n",
    "print(\"Đánh giá mô hình:\")\n",
    "print(classification_report(y_test, y_pred))\n",
    "print(f\"Độ chính xác: {accuracy_score(y_test, y_pred)}\")"
   ]
  },
  {
   "cell_type": "code",
   "execution_count": null,
   "id": "78c8a9aa-d407-4f8c-8b99-be406469de79",
   "metadata": {},
   "outputs": [],
   "source": [
    "# Trực quan hóa: Tầm quan trọng của các đặc trưng\n",
    "coefficients = pd.Series(model.coef_[0], index=X.columns).sort_values(ascending=False)\n",
    "\n",
    "plt.figure(figsize=(10, 6))\n",
    "sns.barplot(x=coefficients[:10], y=coefficients[:10].index, palette=\"viridis\")\n",
    "plt.title(\"Top 10 món ăn quan trọng nhất trong dự đoán (Chicken Burrito)\", fontsize=14)\n",
    "plt.xlabel(\"Hệ số hồi quy\", fontsize=12)\n",
    "plt.ylabel(\"Tên sản phẩm\", fontsize=12)\n",
    "plt.grid(axis='x', linestyle='--', alpha=0.6)\n",
    "plt.show()"
   ]
  },
  {
   "cell_type": "code",
   "execution_count": null,
   "id": "33e8fb83-7e2d-4b8a-baa8-055bab2241a6",
   "metadata": {},
   "outputs": [],
   "source": [
    "# Tạo dữ liệu dự đoán\n",
    "target_product = \"Steak Bowl\"\n",
    "\n",
    "# Đặt cột mục tiêu\n",
    "transaction_df['target'] = transaction_df[target_product].astype(int)\n",
    "\n",
    "# Loại bỏ sản phẩm mục tiêu khỏi đặc trưng dự đoán\n",
    "X = transaction_df.drop(columns=['target', target_product])\n",
    "y = transaction_df['target']\n",
    "\n",
    "X = X.astype(int)\n",
    "y = y.astype(int)\n",
    "\n",
    "# Áp dụng SMOTE để tăng dữ liệu lớp 1\n",
    "smote = SMOTE(random_state=42)\n",
    "X_resampled, y_resampled = smote.fit_resample(X, y)\n",
    "\n",
    "# Tách dữ liệu train-test\n",
    "X_train, X_test, y_train, y_test = train_test_split(X_resampled, y_resampled, test_size=0.2, random_state=42)\n",
    "\n",
    "# Huấn luyện Logistic Regression\n",
    "model = LogisticRegression(max_iter=1000, random_state=42)\n",
    "model.fit(X_train, y_train)\n",
    "\n",
    "# Dự đoán và đánh giá\n",
    "y_pred = model.predict(X_test)\n",
    "print(\"Đánh giá mô hình:\")\n",
    "print(classification_report(y_test, y_pred))\n",
    "print(f\"Độ chính xác: {accuracy_score(y_test, y_pred)}\")"
   ]
  },
  {
   "cell_type": "code",
   "execution_count": null,
   "id": "55b6abeb-f0cc-42c7-8ba7-dc329622a054",
   "metadata": {},
   "outputs": [],
   "source": [
    "# Trực quan hóa: Tầm quan trọng của các đặc trưng\n",
    "coefficients = pd.Series(model.coef_[0], index=X.columns).sort_values(ascending=False)\n",
    "\n",
    "plt.figure(figsize=(10, 6))\n",
    "sns.barplot(x=coefficients[:10], y=coefficients[:10].index, palette=\"viridis\")\n",
    "plt.title(\"Top 10 món ăn quan trọng nhất trong dự đoán (Steak Bowl)\", fontsize=14)\n",
    "plt.xlabel(\"Hệ số hồi quy\", fontsize=12)\n",
    "plt.ylabel(\"Tên sản phẩm\", fontsize=12)\n",
    "plt.grid(axis='x', linestyle='--', alpha=0.6)\n",
    "plt.show()"
   ]
  },
  {
   "cell_type": "code",
   "execution_count": null,
   "id": "ef3bc1e3-8455-4613-8761-2aabfd17adab",
   "metadata": {},
   "outputs": [],
   "source": [
    "# Tạo dữ liệu dự đoán\n",
    "target_product = \"Chips and Guacamole\"\n",
    "\n",
    "# Đặt cột mục tiêu\n",
    "transaction_df['target'] = transaction_df[target_product].astype(int)\n",
    "\n",
    "# Loại bỏ sản phẩm mục tiêu khỏi đặc trưng dự đoán\n",
    "X = transaction_df.drop(columns=['target', target_product])\n",
    "y = transaction_df['target']\n",
    "\n",
    "X = X.astype(int)\n",
    "y = y.astype(int)\n",
    "\n",
    "# Áp dụng SMOTE để tăng dữ liệu lớp 1\n",
    "smote = SMOTE(random_state=42)\n",
    "X_resampled, y_resampled = smote.fit_resample(X, y)\n",
    "\n",
    "# Tách dữ liệu train-test\n",
    "X_train, X_test, y_train, y_test = train_test_split(X_resampled, y_resampled, test_size=0.2, random_state=42)\n",
    "\n",
    "# Huấn luyện Logistic Regression\n",
    "model = LogisticRegression(max_iter=1000, random_state=42)\n",
    "model.fit(X_train, y_train)\n",
    "\n",
    "# Dự đoán và đánh giá\n",
    "y_pred = model.predict(X_test)\n",
    "print(\"Đánh giá mô hình:\")\n",
    "print(classification_report(y_test, y_pred))\n",
    "print(f\"Độ chính xác: {accuracy_score(y_test, y_pred)}\")"
   ]
  },
  {
   "cell_type": "code",
   "execution_count": null,
   "id": "d284264a-9653-45a5-974e-26d8e9fff2df",
   "metadata": {},
   "outputs": [],
   "source": [
    "# Trực quan hóa: Tầm quan trọng của các đặc trưng\n",
    "coefficients = pd.Series(model.coef_[0], index=X.columns).sort_values(ascending=False)\n",
    "\n",
    "plt.figure(figsize=(10, 6))\n",
    "sns.barplot(x=coefficients[:10], y=coefficients[:10].index, palette=\"viridis\")\n",
    "plt.title(\"Top 10 món ăn quan trọng nhất trong dự đoán (Chips and Guacamole)\", fontsize=14)\n",
    "plt.xlabel(\"Hệ số hồi quy\", fontsize=12)\n",
    "plt.ylabel(\"Tên sản phẩm\", fontsize=12)\n",
    "plt.grid(axis='x', linestyle='--', alpha=0.6)\n",
    "plt.show()"
   ]
  },
  {
   "cell_type": "code",
   "execution_count": null,
   "id": "fef66380-9086-4c36-ab95-551c165dde7f",
   "metadata": {},
   "outputs": [],
   "source": [
    "# Tạo dữ liệu dự đoán\n",
    "target_product = \"Veggie Burrito\"\n",
    "\n",
    "# Đặt cột mục tiêu\n",
    "transaction_df['target'] = transaction_df[target_product].astype(int)\n",
    "\n",
    "# Loại bỏ sản phẩm mục tiêu khỏi đặc trưng dự đoán\n",
    "X = transaction_df.drop(columns=['target', target_product])\n",
    "y = transaction_df['target']\n",
    "\n",
    "X = X.astype(int)\n",
    "y = y.astype(int)\n",
    "\n",
    "# Áp dụng SMOTE để tăng dữ liệu lớp 1\n",
    "smote = SMOTE(random_state=42)\n",
    "X_resampled, y_resampled = smote.fit_resample(X, y)\n",
    "\n",
    "# Tách dữ liệu train-test\n",
    "X_train, X_test, y_train, y_test = train_test_split(X_resampled, y_resampled, test_size=0.2, random_state=42)\n",
    "\n",
    "# Huấn luyện Logistic Regression\n",
    "model = LogisticRegression(max_iter=1000, random_state=42)\n",
    "model.fit(X_train, y_train)\n",
    "\n",
    "# Dự đoán và đánh giá\n",
    "y_pred = model.predict(X_test)\n",
    "print(\"Đánh giá mô hình:\")\n",
    "print(classification_report(y_test, y_pred))\n",
    "print(f\"Độ chính xác: {accuracy_score(y_test, y_pred)}\")\n",
    "\n",
    "# Trực quan hóa: Tầm quan trọng của các đặc trưng\n",
    "coefficients = pd.Series(model.coef_[0], index=X.columns).sort_values(ascending=False)\n",
    "\n",
    "plt.figure(figsize=(10, 6))\n",
    "sns.barplot(x=coefficients[:10], y=coefficients[:10].index, palette=\"viridis\")\n",
    "plt.title(\"Top 10 đặc trưng quan trọng nhất trong dự đoán (Veggie Burrito)\", fontsize=14)\n",
    "plt.xlabel(\"Hệ số hồi quy\", fontsize=12)\n",
    "plt.ylabel(\"Tên sản phẩm\", fontsize=12)\n",
    "plt.grid(axis='x', linestyle='--', alpha=0.6)\n",
    "plt.show()"
   ]
  },
  {
   "cell_type": "code",
   "execution_count": null,
   "id": "a255b63a-6ff4-4f44-b932-f40f035db82e",
   "metadata": {},
   "outputs": [],
   "source": [
    "# Tạo dữ liệu dự đoán\n",
    "target_product = \"Barbacoa Burrito\"\n",
    "\n",
    "# Đặt cột mục tiêu\n",
    "transaction_df['target'] = transaction_df[target_product].astype(int)\n",
    "\n",
    "# Loại bỏ sản phẩm mục tiêu khỏi đặc trưng dự đoán\n",
    "X = transaction_df.drop(columns=['target', target_product])\n",
    "y = transaction_df['target']\n",
    "\n",
    "X = X.astype(int)\n",
    "y = y.astype(int)\n",
    "\n",
    "# Áp dụng SMOTE để tăng dữ liệu lớp 1\n",
    "smote = SMOTE(random_state=42)\n",
    "X_resampled, y_resampled = smote.fit_resample(X, y)\n",
    "\n",
    "# Tách dữ liệu train-test\n",
    "X_train, X_test, y_train, y_test = train_test_split(X_resampled, y_resampled, test_size=0.2, random_state=42)\n",
    "\n",
    "# Huấn luyện Logistic Regression\n",
    "model = LogisticRegression(max_iter=1000, random_state=42)\n",
    "model.fit(X_train, y_train)\n",
    "\n",
    "# Dự đoán và đánh giá\n",
    "y_pred = model.predict(X_test)\n",
    "print(\"Đánh giá mô hình:\")\n",
    "print(classification_report(y_test, y_pred))\n",
    "print(f\"Độ chính xác: {accuracy_score(y_test, y_pred)}\")\n",
    "\n",
    "# Trực quan hóa: Tầm quan trọng của các đặc trưng\n",
    "coefficients = pd.Series(model.coef_[0], index=X.columns).sort_values(ascending=False)\n",
    "\n",
    "plt.figure(figsize=(10, 6))\n",
    "sns.barplot(x=coefficients[:10], y=coefficients[:10].index, palette=\"viridis\")\n",
    "plt.title(\"Top 10 đặc trưng quan trọng nhất trong dự đoán (Barbacoa Burrito)\", fontsize=14)\n",
    "plt.xlabel(\"Hệ số hồi quy\", fontsize=12)\n",
    "plt.ylabel(\"Tên sản phẩm\", fontsize=12)\n",
    "plt.grid(axis='x', linestyle='--', alpha=0.6)\n",
    "plt.show()"
   ]
  },
  {
   "cell_type": "code",
   "execution_count": null,
   "id": "eb35bd25-22c2-4e1e-abff-eea424fbf833",
   "metadata": {},
   "outputs": [],
   "source": [
    "# Tạo dữ liệu dự đoán\n",
    "target_product = \"Veggie Bowl\"\n",
    "\n",
    "# Đặt cột mục tiêu\n",
    "transaction_df['target'] = transaction_df[target_product].astype(int)\n",
    "\n",
    "# Loại bỏ sản phẩm mục tiêu khỏi đặc trưng dự đoán\n",
    "X = transaction_df.drop(columns=['target', target_product])\n",
    "y = transaction_df['target']\n",
    "\n",
    "X = X.astype(int)\n",
    "y = y.astype(int)\n",
    "\n",
    "# Áp dụng SMOTE để tăng dữ liệu lớp 1\n",
    "smote = SMOTE(random_state=42)\n",
    "X_resampled, y_resampled = smote.fit_resample(X, y)\n",
    "\n",
    "# Tách dữ liệu train-test\n",
    "X_train, X_test, y_train, y_test = train_test_split(X_resampled, y_resampled, test_size=0.2, random_state=42)\n",
    "\n",
    "# Huấn luyện Logistic Regression\n",
    "model = LogisticRegression(max_iter=1000, random_state=42)\n",
    "model.fit(X_train, y_train)\n",
    "\n",
    "# Dự đoán và đánh giá\n",
    "y_pred = model.predict(X_test)\n",
    "print(\"Đánh giá mô hình:\")\n",
    "print(classification_report(y_test, y_pred))\n",
    "print(f\"Độ chính xác: {accuracy_score(y_test, y_pred)}\")"
   ]
  },
  {
   "cell_type": "code",
   "execution_count": null,
   "id": "177266a1-0811-4010-8f21-bc21fa47ba86",
   "metadata": {},
   "outputs": [],
   "source": [
    "# Trực quan hóa: Tầm quan trọng của các đặc trưng\n",
    "coefficients = pd.Series(model.coef_[0], index=X.columns).sort_values(ascending=False)\n",
    "\n",
    "plt.figure(figsize=(10, 6))\n",
    "sns.barplot(x=coefficients[:10], y=coefficients[:10].index, palette=\"viridis\")\n",
    "plt.title(\"Top 10 món ăn quan trọng nhất trong dự đoán (Veggie Bowl)\", fontsize=14)\n",
    "plt.xlabel(\"Hệ số hồi quy\", fontsize=12)\n",
    "plt.ylabel(\"Tên sản phẩm\", fontsize=12)\n",
    "plt.grid(axis='x', linestyle='--', alpha=0.6)\n",
    "plt.show()"
   ]
  },
  {
   "cell_type": "markdown",
   "id": "bac2d5eb-7b4e-4742-90b7-622fbe1f2d63",
   "metadata": {},
   "source": [
    "## THEO SỐ LƯỢNG"
   ]
  },
  {
   "cell_type": "code",
   "execution_count": null,
   "id": "356ba13c-9ba2-401c-bcf7-ae959b51e220",
   "metadata": {},
   "outputs": [],
   "source": [
    "# Tạo dữ liệu dự đoán\n",
    "target_product = \"Canned Soft Drink\"\n",
    "\n",
    "# Đặt cột mục tiêu\n",
    "transaction_df['target'] = transaction_df[target_product].astype(int)\n",
    "\n",
    "# Loại bỏ sản phẩm mục tiêu khỏi đặc trưng dự đoán\n",
    "X = transaction_df.drop(columns=['target', target_product])\n",
    "y = transaction_df['target']\n",
    "\n",
    "X = X.astype(int)\n",
    "y = y.astype(int)\n",
    "\n",
    "# Áp dụng SMOTE để tăng dữ liệu lớp 1\n",
    "smote = SMOTE(random_state=42)\n",
    "X_resampled, y_resampled = smote.fit_resample(X, y)\n",
    "\n",
    "# Tách dữ liệu train-test\n",
    "X_train, X_test, y_train, y_test = train_test_split(X_resampled, y_resampled, test_size=0.2, random_state=42)\n",
    "\n",
    "# Huấn luyện Logistic Regression\n",
    "model = LogisticRegression(max_iter=1000, random_state=42)\n",
    "model.fit(X_train, y_train)\n",
    "\n",
    "# Dự đoán và đánh giá\n",
    "y_pred = model.predict(X_test)\n",
    "print(\"Đánh giá mô hình:\")\n",
    "print(classification_report(y_test, y_pred))\n",
    "print(f\"Độ chính xác: {accuracy_score(y_test, y_pred)}\")"
   ]
  },
  {
   "cell_type": "code",
   "execution_count": null,
   "id": "0e18ab26-300a-453d-8a22-03bc10a84eb1",
   "metadata": {},
   "outputs": [],
   "source": [
    "# Trực quan hóa: Tầm quan trọng của các đặc trưng\n",
    "coefficients = pd.Series(model.coef_[0], index=X.columns).sort_values(ascending=False)\n",
    "\n",
    "plt.figure(figsize=(10, 6))\n",
    "sns.barplot(x=coefficients[:10], y=coefficients[:10].index, palette=\"viridis\")\n",
    "plt.title(\"Top 10 món ăn quan trọng nhất trong dự đoán (Canned Soft Drink)\", fontsize=14)\n",
    "plt.xlabel(\"Hệ số hồi quy\", fontsize=12)\n",
    "plt.ylabel(\"Tên sản phẩm\", fontsize=12)\n",
    "plt.grid(axis='x', linestyle='--', alpha=0.6)\n",
    "plt.show()"
   ]
  },
  {
   "cell_type": "code",
   "execution_count": null,
   "id": "680a6c0a-5cbc-4e47-9de1-2e10c2a4b7f3",
   "metadata": {},
   "outputs": [],
   "source": [
    "# Tạo dữ liệu dự đoán\n",
    "target_product = \"Steak Burrito\"\n",
    "\n",
    "# Đặt cột mục tiêu\n",
    "transaction_df['target'] = transaction_df[target_product].astype(int)\n",
    "\n",
    "# Loại bỏ sản phẩm mục tiêu khỏi đặc trưng dự đoán\n",
    "X = transaction_df.drop(columns=['target', target_product])\n",
    "y = transaction_df['target']\n",
    "\n",
    "X = X.astype(int)\n",
    "y = y.astype(int)\n",
    "\n",
    "# Áp dụng SMOTE để tăng dữ liệu lớp 1\n",
    "smote = SMOTE(random_state=42)\n",
    "X_resampled, y_resampled = smote.fit_resample(X, y)\n",
    "\n",
    "# Tách dữ liệu train-test\n",
    "X_train, X_test, y_train, y_test = train_test_split(X_resampled, y_resampled, test_size=0.2, random_state=42)\n",
    "\n",
    "# Huấn luyện Logistic Regression\n",
    "model = LogisticRegression(max_iter=1000, random_state=42)\n",
    "model.fit(X_train, y_train)\n",
    "\n",
    "# Dự đoán và đánh giá\n",
    "y_pred = model.predict(X_test)\n",
    "print(\"Đánh giá mô hình:\")\n",
    "print(classification_report(y_test, y_pred))\n",
    "print(f\"Độ chính xác: {accuracy_score(y_test, y_pred)}\")"
   ]
  },
  {
   "cell_type": "code",
   "execution_count": null,
   "id": "34390e30-efa5-4feb-82ec-87c3ec59da59",
   "metadata": {},
   "outputs": [],
   "source": [
    "# Trực quan hóa: Tầm quan trọng của các đặc trưng\n",
    "coefficients = pd.Series(model.coef_[0], index=X.columns).sort_values(ascending=False)\n",
    "\n",
    "plt.figure(figsize=(10, 6))\n",
    "sns.barplot(x=coefficients[:10], y=coefficients[:10].index, palette=\"viridis\")\n",
    "plt.title(\"Top 10 món ăn quan trọng nhất trong dự đoán (Steak Burrito)\", fontsize=14)\n",
    "plt.xlabel(\"Hệ số hồi quy\", fontsize=12)\n",
    "plt.ylabel(\"Tên sản phẩm\", fontsize=12)\n",
    "plt.grid(axis='x', linestyle='--', alpha=0.6)\n",
    "plt.show()"
   ]
  },
  {
   "cell_type": "code",
   "execution_count": null,
   "id": "0c42b377-126f-4e91-8267-3c3cfac20980",
   "metadata": {},
   "outputs": [],
   "source": [
    "# Tạo dữ liệu dự đoán\n",
    "target_product = \"Bottled Water\"\n",
    "\n",
    "# Đặt cột mục tiêu\n",
    "transaction_df['target'] = transaction_df[target_product].astype(int)\n",
    "\n",
    "# Loại bỏ sản phẩm mục tiêu khỏi đặc trưng dự đoán\n",
    "X = transaction_df.drop(columns=['target', target_product])\n",
    "y = transaction_df['target']\n",
    "\n",
    "X = X.astype(int)\n",
    "y = y.astype(int)\n",
    "\n",
    "# Áp dụng SMOTE để tăng dữ liệu lớp 1\n",
    "smote = SMOTE(random_state=42)\n",
    "X_resampled, y_resampled = smote.fit_resample(X, y)\n",
    "\n",
    "# Tách dữ liệu train-test\n",
    "X_train, X_test, y_train, y_test = train_test_split(X_resampled, y_resampled, test_size=0.2, random_state=42)\n",
    "\n",
    "# Huấn luyện Logistic Regression\n",
    "model = LogisticRegression(max_iter=1000, random_state=42)\n",
    "model.fit(X_train, y_train)\n",
    "\n",
    "# Dự đoán và đánh giá\n",
    "y_pred = model.predict(X_test)\n",
    "print(\"Đánh giá mô hình:\")\n",
    "print(classification_report(y_test, y_pred))\n",
    "print(f\"Độ chính xác: {accuracy_score(y_test, y_pred)}\")\n",
    "\n"
   ]
  },
  {
   "cell_type": "code",
   "execution_count": null,
   "id": "d315354a-c16b-4a0f-91a8-bd08ddd8ebc1",
   "metadata": {},
   "outputs": [],
   "source": [
    "# Trực quan hóa: Tầm quan trọng của các đặc trưng\n",
    "coefficients = pd.Series(model.coef_[0], index=X.columns).sort_values(ascending=False)\n",
    "\n",
    "plt.figure(figsize=(10, 6))\n",
    "sns.barplot(x=coefficients[:10], y=coefficients[:10].index, palette=\"viridis\")\n",
    "plt.title(\"Top 10 món ăn quan trọng nhất trong dự đoán (Bottled Water)\", fontsize=14)\n",
    "plt.xlabel(\"Hệ số hồi quy\", fontsize=12)\n",
    "plt.ylabel(\"Tên sản phẩm\", fontsize=12)\n",
    "plt.grid(axis='x', linestyle='--', alpha=0.6)\n",
    "plt.show()"
   ]
  },
  {
   "cell_type": "code",
   "execution_count": null,
   "id": "9590dbf7-2985-414a-8acc-8ee950c688a9",
   "metadata": {},
   "outputs": [],
   "source": [
    "# Tạo dữ liệu dự đoán\n",
    "target_product = \"Canned Soda\"\n",
    "\n",
    "# Đặt cột mục tiêu\n",
    "transaction_df['target'] = transaction_df[target_product].astype(int)\n",
    "\n",
    "# Loại bỏ sản phẩm mục tiêu khỏi đặc trưng dự đoán\n",
    "X = transaction_df.drop(columns=['target', target_product])\n",
    "y = transaction_df['target']\n",
    "\n",
    "X = X.astype(int)\n",
    "y = y.astype(int)\n",
    "\n",
    "# Áp dụng SMOTE để tăng dữ liệu lớp 1\n",
    "smote = SMOTE(random_state=42)\n",
    "X_resampled, y_resampled = smote.fit_resample(X, y)\n",
    "\n",
    "# Tách dữ liệu train-test\n",
    "X_train, X_test, y_train, y_test = train_test_split(X_resampled, y_resampled, test_size=0.2, random_state=42)\n",
    "\n",
    "# Huấn luyện Logistic Regression\n",
    "model = LogisticRegression(max_iter=1000, random_state=42)\n",
    "model.fit(X_train, y_train)\n",
    "\n",
    "# Dự đoán và đánh giá\n",
    "y_pred = model.predict(X_test)\n",
    "print(\"Đánh giá mô hình:\")\n",
    "print(classification_report(y_test, y_pred))\n",
    "print(f\"Độ chính xác: {accuracy_score(y_test, y_pred)}\")\n",
    "\n"
   ]
  },
  {
   "cell_type": "code",
   "execution_count": null,
   "id": "a2dc3db1-705f-4587-bf08-5edbed3d44dc",
   "metadata": {},
   "outputs": [],
   "source": [
    "# Trực quan hóa: Tầm quan trọng của các đặc trưng\n",
    "coefficients = pd.Series(model.coef_[0], index=X.columns).sort_values(ascending=False)\n",
    "\n",
    "plt.figure(figsize=(10, 6))\n",
    "sns.barplot(x=coefficients[:10], y=coefficients[:10].index, palette=\"viridis\")\n",
    "plt.title(\"Top 10 món ăn quan trọng nhất trong dự đoán (Canned Soda)\", fontsize=14)\n",
    "plt.xlabel(\"Hệ số hồi quy\", fontsize=12)\n",
    "plt.ylabel(\"Tên sản phẩm\", fontsize=12)\n",
    "plt.grid(axis='x', linestyle='--', alpha=0.6)\n",
    "plt.show()"
   ]
  },
  {
   "cell_type": "code",
   "execution_count": null,
   "id": "d93d5032-d101-42fc-bde9-a6d3c3f9fcb1",
   "metadata": {},
   "outputs": [],
   "source": [
    "# Tạo dữ liệu dự đoán\n",
    "target_product = \"Chips\"\n",
    "\n",
    "# Đặt cột mục tiêu\n",
    "transaction_df['target'] = transaction_df[target_product].astype(int)\n",
    "\n",
    "# Loại bỏ sản phẩm mục tiêu khỏi đặc trưng dự đoán\n",
    "X = transaction_df.drop(columns=['target', target_product])\n",
    "y = transaction_df['target']\n",
    "\n",
    "X = X.astype(int)\n",
    "y = y.astype(int)\n",
    "\n",
    "# Áp dụng SMOTE để tăng dữ liệu lớp 1\n",
    "smote = SMOTE(random_state=42)\n",
    "X_resampled, y_resampled = smote.fit_resample(X, y)\n",
    "\n",
    "# Tách dữ liệu train-test\n",
    "X_train, X_test, y_train, y_test = train_test_split(X_resampled, y_resampled, test_size=0.2, random_state=42)\n",
    "\n",
    "# Huấn luyện Logistic Regression\n",
    "model = LogisticRegression(max_iter=1000, random_state=42)\n",
    "model.fit(X_train, y_train)\n",
    "\n",
    "# Dự đoán và đánh giá\n",
    "y_pred = model.predict(X_test)\n",
    "print(\"Đánh giá mô hình:\")\n",
    "print(classification_report(y_test, y_pred))\n",
    "print(f\"Độ chính xác: {accuracy_score(y_test, y_pred)}\")"
   ]
  },
  {
   "cell_type": "code",
   "execution_count": null,
   "id": "1b0bb562-10de-440d-a657-ddfbbda3e0de",
   "metadata": {},
   "outputs": [],
   "source": [
    "# Trực quan hóa: Tầm quan trọng của các đặc trưng\n",
    "coefficients = pd.Series(model.coef_[0], index=X.columns).sort_values(ascending=False)\n",
    "\n",
    "plt.figure(figsize=(10, 6))\n",
    "sns.barplot(x=coefficients[:10], y=coefficients[:10].index, palette=\"viridis\")\n",
    "plt.title(\"Top 10 món ăn quan trọng nhất trong dự đoán (Chips)\", fontsize=14)\n",
    "plt.xlabel(\"Hệ số hồi quy\", fontsize=12)\n",
    "plt.ylabel(\"Tên sản phẩm\", fontsize=12)\n",
    "plt.grid(axis='x', linestyle='--', alpha=0.6)\n",
    "plt.show()"
   ]
  },
  {
   "cell_type": "code",
   "execution_count": null,
   "id": "29e32e7b-4947-4ea2-815e-d06c7c9d34e9",
   "metadata": {},
   "outputs": [],
   "source": [
    "# Tạo dữ liệu dự đoán\n",
    "target_product = \"Chips and Fresh Tomato Salsa\"\n",
    "\n",
    "# Đặt cột mục tiêu\n",
    "transaction_df['target'] = transaction_df[target_product].astype(int)\n",
    "\n",
    "# Loại bỏ sản phẩm mục tiêu khỏi đặc trưng dự đoán\n",
    "X = transaction_df.drop(columns=['target', target_product])\n",
    "y = transaction_df['target']\n",
    "\n",
    "X = X.astype(int)\n",
    "y = y.astype(int)\n",
    "\n",
    "# Áp dụng SMOTE để tăng dữ liệu lớp 1\n",
    "smote = SMOTE(random_state=42)\n",
    "X_resampled, y_resampled = smote.fit_resample(X, y)\n",
    "\n",
    "# Tách dữ liệu train-test\n",
    "X_train, X_test, y_train, y_test = train_test_split(X_resampled, y_resampled, test_size=0.2, random_state=42)\n",
    "\n",
    "# Huấn luyện Logistic Regression\n",
    "model = LogisticRegression(max_iter=1000, random_state=42)\n",
    "model.fit(X_train, y_train)\n",
    "\n",
    "# Dự đoán và đánh giá\n",
    "y_pred = model.predict(X_test)\n",
    "print(\"Đánh giá mô hình:\")\n",
    "print(classification_report(y_test, y_pred))\n",
    "print(f\"Độ chính xác: {accuracy_score(y_test, y_pred)}\")"
   ]
  },
  {
   "cell_type": "code",
   "execution_count": null,
   "id": "bc0db1cc-1f5a-4a2e-9411-e059930d1e6f",
   "metadata": {},
   "outputs": [],
   "source": [
    "# Trực quan hóa: Tầm quan trọng của các đặc trưng\n",
    "coefficients = pd.Series(model.coef_[0], index=X.columns).sort_values(ascending=False)\n",
    "\n",
    "plt.figure(figsize=(10, 6))\n",
    "sns.barplot(x=coefficients[:10], y=coefficients[:10].index, palette=\"viridis\")\n",
    "plt.title(\"Top 10 món ăn quan trọng nhất trong dự đoán (Chips and Fresh Tomato Salsa)\", fontsize=14)\n",
    "plt.xlabel(\"Hệ số hồi quy\", fontsize=12)\n",
    "plt.ylabel(\"Tên sản phẩm\", fontsize=12)\n",
    "plt.grid(axis='x', linestyle='--', alpha=0.6)\n",
    "plt.show()"
   ]
  },
  {
   "cell_type": "code",
   "execution_count": null,
   "id": "6f648d24-ef4c-4904-a0cc-029ac851e347",
   "metadata": {},
   "outputs": [],
   "source": [
    "# Tạo dữ liệu dự đoán\n",
    "target_product = \"Chicken Salad Bowl\"\n",
    "\n",
    "# Đặt cột mục tiêu\n",
    "transaction_df['target'] = transaction_df[target_product].astype(int)\n",
    "\n",
    "# Loại bỏ sản phẩm mục tiêu khỏi đặc trưng dự đoán\n",
    "X = transaction_df.drop(columns=['target', target_product])\n",
    "y = transaction_df['target']\n",
    "\n",
    "X = X.astype(int)\n",
    "y = y.astype(int)\n",
    "\n",
    "# Áp dụng SMOTE để tăng dữ liệu lớp 1\n",
    "smote = SMOTE(random_state=42)\n",
    "X_resampled, y_resampled = smote.fit_resample(X, y)\n",
    "\n",
    "# Tách dữ liệu train-test\n",
    "X_train, X_test, y_train, y_test = train_test_split(X_resampled, y_resampled, test_size=0.2, random_state=42)\n",
    "\n",
    "# Huấn luyện Logistic Regression\n",
    "model = LogisticRegression(max_iter=1000, random_state=42)\n",
    "model.fit(X_train, y_train)\n",
    "\n",
    "# Dự đoán và đánh giá\n",
    "y_pred = model.predict(X_test)\n",
    "print(\"Đánh giá mô hình:\")\n",
    "print(classification_report(y_test, y_pred))\n",
    "print(f\"Độ chính xác: {accuracy_score(y_test, y_pred)}\")"
   ]
  },
  {
   "cell_type": "code",
   "execution_count": null,
   "id": "286d0f58-c435-4a8b-b58a-85f5e8753b2e",
   "metadata": {},
   "outputs": [],
   "source": [
    "# Trực quan hóa: Tầm quan trọng của các đặc trưng\n",
    "coefficients = pd.Series(model.coef_[0], index=X.columns).sort_values(ascending=False)\n",
    "\n",
    "plt.figure(figsize=(10, 6))\n",
    "sns.barplot(x=coefficients[:10], y=coefficients[:10].index, palette=\"viridis\")\n",
    "plt.title(\"Top 10 món ăn quan trọng nhất trong dự đoán (Chicken Salad Bowl)\", fontsize=14)\n",
    "plt.xlabel(\"Hệ số hồi quy\", fontsize=12)\n",
    "plt.ylabel(\"Tên sản phẩm\", fontsize=12)\n",
    "plt.grid(axis='x', linestyle='--', alpha=0.6)\n",
    "plt.show()"
   ]
  },
  {
   "cell_type": "code",
   "execution_count": null,
   "id": "20fdd72b-9d7c-493b-86d1-35dfd446c300",
   "metadata": {},
   "outputs": [],
   "source": [
    "# Tạo dữ liệu dự đoán\n",
    "target_product = \"Chicken Soft Tacos\"\n",
    "\n",
    "# Đặt cột mục tiêu\n",
    "transaction_df['target'] = transaction_df[target_product].astype(int)\n",
    "\n",
    "# Loại bỏ sản phẩm mục tiêu khỏi đặc trưng dự đoán\n",
    "X = transaction_df.drop(columns=['target', target_product])\n",
    "y = transaction_df['target']\n",
    "\n",
    "X = X.astype(int)\n",
    "y = y.astype(int)\n",
    "\n",
    "# Áp dụng SMOTE để tăng dữ liệu lớp 1\n",
    "smote = SMOTE(random_state=42)\n",
    "X_resampled, y_resampled = smote.fit_resample(X, y)\n",
    "\n",
    "# Tách dữ liệu train-test\n",
    "X_train, X_test, y_train, y_test = train_test_split(X_resampled, y_resampled, test_size=0.2, random_state=42)\n",
    "\n",
    "# Huấn luyện Logistic Regression\n",
    "model = LogisticRegression(max_iter=1000, random_state=42)\n",
    "model.fit(X_train, y_train)\n",
    "\n",
    "# Dự đoán và đánh giá\n",
    "y_pred = model.predict(X_test)\n",
    "print(\"Đánh giá mô hình:\")\n",
    "print(classification_report(y_test, y_pred))\n",
    "print(f\"Độ chính xác: {accuracy_score(y_test, y_pred)}\")"
   ]
  },
  {
   "cell_type": "code",
   "execution_count": null,
   "id": "fa35f60d-af66-4f95-9c5f-e541cf7e5d5e",
   "metadata": {},
   "outputs": [],
   "source": [
    "# Trực quan hóa: Tầm quan trọng của các đặc trưng\n",
    "coefficients = pd.Series(model.coef_[0], index=X.columns).sort_values(ascending=False)\n",
    "\n",
    "plt.figure(figsize=(10, 6))\n",
    "sns.barplot(x=coefficients[:10], y=coefficients[:10].index, palette=\"viridis\")\n",
    "plt.title(\"Top 10 món ăn quan trọng nhất trong dự đoán (Chicken Soft Tacos)\", fontsize=14)\n",
    "plt.xlabel(\"Hệ số hồi quy\", fontsize=12)\n",
    "plt.ylabel(\"Tên sản phẩm\", fontsize=12)\n",
    "plt.grid(axis='x', linestyle='--', alpha=0.6)\n",
    "plt.show()"
   ]
  }
 ],
 "metadata": {
  "kernelspec": {
   "display_name": "Python 3 (ipykernel)",
   "language": "python",
   "name": "python3"
  },
  "language_info": {
   "codemirror_mode": {
    "name": "ipython",
    "version": 3
   },
   "file_extension": ".py",
   "mimetype": "text/x-python",
   "name": "python",
   "nbconvert_exporter": "python",
   "pygments_lexer": "ipython3",
   "version": "3.12.7"
  }
 },
 "nbformat": 4,
 "nbformat_minor": 5
}
